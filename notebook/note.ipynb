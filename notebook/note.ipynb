{
 "cells": [
  {
   "cell_type": "markdown",
   "source": [
    "# Extract CAC Methylation Level of Different Depth"
   ],
   "metadata": {
    "collapsed": false
   },
   "id": "a0278139e9837312"
  },
  {
   "cell_type": "code",
   "outputs": [],
   "source": [
    "from config import CONFIG\n",
    "\n",
    "ratioFile=CONFIG.DataDir / 'raw'/'CAC.bed.gz'\n",
    "depthFile=CONFIG.DataDir / 'raw'/'CAC.depth.bed.gz'\n",
    "outRatioFile1=CONFIG.DataDir / 'intermediate' / 'CAC.depthMinThreshold1.bed'\n",
    "outDepthFile1=CONFIG.DataDir / 'intermediate' / 'CAC.depthMinThreshold1.depth.bed'\n",
    "outRatioFile3=CONFIG.DataDir / 'intermediate' / 'CAC.depthMinThreshold3.bed'\n",
    "outDepthFile3=CONFIG.DataDir / 'intermediate' / 'CAC.depthMinThreshold3.depth.bed'\n",
    "outRatioFile10=CONFIG.DataDir / 'intermediate' / 'CAC.depthMinThreshold10.bed'\n",
    "outDepthFile10=CONFIG.DataDir / 'intermediate' / 'CAC.depthMinThreshold10.depth.bed'"
   ],
   "metadata": {
    "collapsed": false,
    "ExecuteTime": {
     "end_time": "2024-05-13T14:03:18.157445700Z",
     "start_time": "2024-05-13T14:03:18.131001300Z"
    }
   },
   "id": "6829fc3076a020f5",
   "execution_count": 5
  },
  {
   "cell_type": "code",
   "outputs": [
    {
     "name": "stdout",
     "output_type": "stream",
     "text": [
      "^C\n"
     ]
    }
   ],
   "source": [
    "!python ../script/methMatrixFilter.py -r $ratioFile -d $depthFile -p 0.1 -m 1 -or $outRatioFile1 -od $outDepthFile1\n",
    "!python ../script/methMatrixFilter.py -r $ratioFile -d $depthFile -p 0.1 -m 3 -or $outRatioFile3 -od $outDepthFile3\n",
    "!python ../script/methMatrixFilter.py -r $ratioFile -d $depthFile -p 0.1 -m 10 -or $outRatioFile10 -od $outDepthFile10"
   ],
   "metadata": {
    "collapsed": false,
    "ExecuteTime": {
     "end_time": "2024-05-13T14:08:58.878456100Z",
     "start_time": "2024-05-13T14:04:25.373973600Z"
    }
   },
   "id": "222c010b5dd53471",
   "execution_count": 8
  }
 ],
 "metadata": {
  "kernelspec": {
   "display_name": "Python 3",
   "language": "python",
   "name": "python3"
  },
  "language_info": {
   "codemirror_mode": {
    "name": "ipython",
    "version": 2
   },
   "file_extension": ".py",
   "mimetype": "text/x-python",
   "name": "python",
   "nbconvert_exporter": "python",
   "pygments_lexer": "ipython2",
   "version": "2.7.6"
  }
 },
 "nbformat": 4,
 "nbformat_minor": 5
}
