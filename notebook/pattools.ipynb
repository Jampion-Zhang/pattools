{
 "cells": [
  {
   "cell_type": "markdown",
   "id": "892f762f3cd73bf",
   "metadata": {
    "collapsed": false
   },
   "source": [
    "## Basic Library"
   ]
  },
  {
   "cell_type": "code",
   "execution_count": 1,
   "id": "initial_id",
   "metadata": {
    "ExecuteTime": {
     "end_time": "2024-05-28T01:23:25.270214400Z",
     "start_time": "2024-05-28T01:23:24.500216400Z"
    }
   },
   "outputs": [
    {
     "name": "stdout",
     "output_type": "stream",
     "text": [
      "('chr21', 26756576, {'CCCC': 1})\n",
      "('chr21', 26756577, {'CCCC': 2, 'TCCC': 1})\n",
      "('chr21', 26756578, {'CCCC': 2})\n",
      "('chr21', 26756579, {'CCCT': 2, 'CCCC': 5, 'CCTT': 2, 'TCCC': 1})\n"
     ]
    }
   ],
   "source": [
    "from config import CONFIG\n",
    "\n",
    "from pattools.pat import PatWindow\n",
    "\n",
    "patFile = CONFIG.DataRaw / 'pat' / 'test.chr21_22.pat.gz'\n",
    "patWindow = PatWindow(patFile)\n",
    "i = 0\n",
    "for win in patWindow:\n",
    "    i += 1\n",
    "    if i == 5:\n",
    "        break\n",
    "    print(win)"
   ]
  },
  {
   "cell_type": "markdown",
   "id": "190a20d8281fbfb8",
   "metadata": {
    "collapsed": false
   },
   "source": [
    "## pattools\n",
    "\n",
    "```\n",
    "pattools deconv -m sun -g hg38 \\\n",
    "    -c /mnt/d/project/wgbs_tools/references/hg38/CpG.bed.gz \\\n",
    "    -p /mnt/d/data/cacLung/raw/pat/GSM5652289_Blood-T-Eff-CD8-Z0000041F.hg38.pat.gz \\\n",
    "    -o /mnt/d/project/pattools/tmp/out.csv\n",
    "```"
   ]
  },
  {
   "cell_type": "markdown",
   "source": [
    "# Methylation Vector\n"
   ],
   "metadata": {
    "collapsed": false
   },
   "id": "2c7a4ae9fa64b749"
  },
  {
   "cell_type": "markdown",
   "source": [
    "## Basic Theory\n",
    "\n",
    "In the PAT format file, methylated CpG sites are denoted by 'C', and unmethylated CpG sites are denoted by 'T'. In the vector representation of methylation, a '1' corresponds to a methylated site, while a '0' corresponds to an unmethylated site. Consequently, the sequence 'CCTTCT' in the PAT format can be represented by the vector [1, 1, 0, 0, 1, 0]. Continuous CpG sites of length $n$ are used as a window, which contains several CpG motifs of the same length. These motifs can be converted into vector format. For instance, in a window of length 3, the following motif is included:\n",
    "\n",
    "$$\n",
    "\\begin{pmatrix}\n",
    "1 & 1 & 1 \\\\\n",
    "1 & 1 & 1 \\\\\n",
    "1 & 1 & 1 \\\\\n",
    "1 & 1 & 0 \\\\\n",
    "0 & 0 & 0 \\\\\n",
    "\\end{pmatrix}\n",
    "$$\n",
    "\n",
    "The vectors corresponding to motifs within a window of length $n$ are situated within an $n$-dimensional Cartesian coordinate system.\n"
   ],
   "metadata": {
    "collapsed": false
   },
   "id": "82e84b9ab76431e0"
  },
  {
   "cell_type": "markdown",
   "source": [
    "## Code"
   ],
   "metadata": {
    "collapsed": false
   },
   "id": "1dcf0acdbe3cbaf5"
  },
  {
   "cell_type": "code",
   "outputs": [
    {
     "name": "stdout",
     "output_type": "stream",
     "text": [
      "chr21\t26794712\t1\t-1.000\t0.888\t8853\t5315|653|318|823|836|61|101|101|92|53|212|43|8|33|107|97\n",
      "[[1 1 1 1]\n",
      " [1 1 1 1]\n",
      " [1 1 1 1]\n",
      " ...\n",
      " [0 0 0 0]\n",
      " [0 0 0 0]\n",
      " [0 0 0 0]]\n"
     ]
    },
    {
     "data": {
      "text/plain": "<Figure size 420x400 with 1 Axes>",
      "image/png": "[encoded data removed]"
     },
     "metadata": {},
     "output_type": "display_data"
    }
   ],
   "source": [
    "from pattools.motif import Motif\n",
    "from pattools.vector.calculator import VectorCalculator, VectorPlot\n",
    "\n",
    "# chr1    13088   1       -1.000  0.542   30      5|6|0|0|1|1|3|2|1|0|0|2|3|2|0|4\n",
    "# chr21   26794712        2       0.894   0.921   460     243|24|7|8|8|16|0|4|0|4|3|2|14|3|7|117\n",
    "# chr1    1374704 1       -1.000  0.888   8853    5315|653|318|823|836|61|101|101|92|53|212|43|8|33|107|97\n",
    "s = '5315|653|318|823|836|61|101|101|92|53|212|43|8|33|107|97'\n",
    "\n",
    "motif = Motif(4)\n",
    "motif_count = dict(zip(motif.motifs, [int(x) for x in s.split('|')]))\n",
    "\n",
    "vector_calculator = VectorCalculator()\n",
    "vector_calculator.set_motif_count('chr21', 26794712, motif_count)\n",
    "vector_calculator.calc()\n",
    "print(vector_calculator)\n",
    "VectorPlot(vector_calculator).plot_vector_cluster()"
   ],
   "metadata": {
    "collapsed": false,
    "ExecuteTime": {
     "end_time": "2024-06-03T11:10:58.530162Z",
     "start_time": "2024-06-03T11:10:46.780293300Z"
    }
   },
   "id": "94aeb32f96b28dd",
   "execution_count": 2
  },
  {
   "cell_type": "code",
   "outputs": [
    {
     "name": "stdout",
     "output_type": "stream",
     "text": [
      "['#1f77b4', '#ff7f0e', '#2ca02c', '#d62728', '#9467bd', '#8c564b', '#e377c2', '#7f7f7f', '#bcbd22', '#17becf']\n"
     ]
    }
   ],
   "source": [
    "import matplotlib.pyplot as plt\n",
    "\n",
    "# 获取默认的颜色循环\n",
    "colors = plt.rcParams['axes.prop_cycle'].by_key()['color']\n",
    "\n",
    "print(colors)"
   ],
   "metadata": {
    "collapsed": false,
    "ExecuteTime": {
     "end_time": "2024-06-03T00:53:19.887750Z",
     "start_time": "2024-06-03T00:53:19.829168Z"
    }
   },
   "id": "74d736cd18e86fcc",
   "execution_count": 15
  },
  {
   "cell_type": "markdown",
   "source": [],
   "metadata": {
    "collapsed": false
   },
   "id": "350a50260bfdbb49"
  }
 ],
 "metadata": {
  "kernelspec": {
   "display_name": "Python 3 (ipykernel)",
   "language": "python",
   "name": "python3"
  },
  "language_info": {
   "codemirror_mode": {
    "name": "ipython",
    "version": 3
   },
   "file_extension": ".py",
   "mimetype": "text/x-python",
   "name": "python",
   "nbconvert_exporter": "python",
   "pygments_lexer": "ipython3",
   "version": "3.10.14"
  }
 },
 "nbformat": 4,
 "nbformat_minor": 5
}
