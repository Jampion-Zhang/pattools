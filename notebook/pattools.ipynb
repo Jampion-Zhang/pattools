{
 "cells": [
  {
   "cell_type": "markdown",
   "source": [
    "## Basic Library"
   ],
   "metadata": {
    "collapsed": false
   },
   "id": "892f762f3cd73bf"
  },
  {
   "cell_type": "code",
   "execution_count": 2,
   "id": "initial_id",
   "metadata": {
    "collapsed": true,
    "ExecuteTime": {
     "end_time": "2024-05-21T01:34:24.096679700Z",
     "start_time": "2024-05-21T01:34:24.080784Z"
    }
   },
   "outputs": [
    {
     "name": "stdout",
     "output_type": "stream",
     "text": [
      "('chr21', 26756576, {'CCCC': 1})\n",
      "('chr21', 26756577, {'CCCC': 1, 'TCCC': 1})\n",
      "('chr21', 26756578, {'CCCC': 1})\n",
      "('chr21', 26756579, {'CCCT': 1, 'CCCC': 1, 'CCTT': 2, 'TCCC': 1})\n"
     ]
    }
   ],
   "source": [
    "from config import CONFIG\n",
    "\n",
    "from pattools.pat import PatWindow\n",
    "\n",
    "patFile = CONFIG.DataRaw / 'pat' / 'test.chr21_22.pat.gz'\n",
    "patWindow = PatWindow(patFile)\n",
    "i = 0\n",
    "for win in patWindow:\n",
    "    i += 1\n",
    "    if i == 5:\n",
    "        break\n",
    "    print(win)"
   ]
  },
  {
   "cell_type": "markdown",
   "source": [
    "## pattools\n",
    "\n",
    "```\n",
    "pattools deconv -m sun -g hg38 \\\n",
    "    -c /mnt/d/project/wgbs_tools/references/hg38/CpG.bed.gz \\\n",
    "    -p /mnt/d/data/cacLung/raw/pat/GSM5652289_Blood-T-Eff-CD8-Z0000041F.hg38.pat.gz \\\n",
    "    -o /mnt/d/project/cacLung/tmp/out.csv\n",
    "```"
   ],
   "metadata": {
    "collapsed": false
   },
   "id": "190a20d8281fbfb8"
  }
 ],
 "metadata": {
  "kernelspec": {
   "display_name": "Python 3",
   "language": "python",
   "name": "python3"
  },
  "language_info": {
   "codemirror_mode": {
    "name": "ipython",
    "version": 2
   },
   "file_extension": ".py",
   "mimetype": "text/x-python",
   "name": "python",
   "nbconvert_exporter": "python",
   "pygments_lexer": "ipython2",
   "version": "2.7.6"
  }
 },
 "nbformat": 4,
 "nbformat_minor": 5
}
