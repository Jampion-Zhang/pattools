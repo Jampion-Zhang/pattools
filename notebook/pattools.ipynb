{
 "cells": [
  {
   "cell_type": "code",
   "execution_count": 2,
   "id": "initial_id",
   "metadata": {
    "collapsed": true,
    "ExecuteTime": {
     "end_time": "2024-05-21T01:34:24.096679700Z",
     "start_time": "2024-05-21T01:34:24.080784Z"
    }
   },
   "outputs": [
    {
     "name": "stdout",
     "output_type": "stream",
     "text": [
      "('chr21', 26756576, {'CCCC': 1})\n",
      "('chr21', 26756577, {'CCCC': 1, 'TCCC': 1})\n",
      "('chr21', 26756578, {'CCCC': 1})\n",
      "('chr21', 26756579, {'CCCT': 1, 'CCCC': 1, 'CCTT': 2, 'TCCC': 1})\n"
     ]
    }
   ],
   "source": [
    "from config import CONFIG\n",
    "\n",
    "from pattools.pat import PatWindow\n",
    "\n",
    "patFile = CONFIG.DataRaw / 'pat' / 'test.chr21_22.pat.gz'\n",
    "patWindow = PatWindow(patFile)\n",
    "i = 0\n",
    "for win in patWindow:\n",
    "    i += 1\n",
    "    if i == 5:\n",
    "        break\n",
    "    print(win)"
   ]
  },
  {
   "cell_type": "code",
   "outputs": [],
   "source": [],
   "metadata": {
    "collapsed": false
   },
   "id": "3bdfd037c803d5e5"
  }
 ],
 "metadata": {
  "kernelspec": {
   "display_name": "Python 3",
   "language": "python",
   "name": "python3"
  },
  "language_info": {
   "codemirror_mode": {
    "name": "ipython",
    "version": 2
   },
   "file_extension": ".py",
   "mimetype": "text/x-python",
   "name": "python",
   "nbconvert_exporter": "python",
   "pygments_lexer": "ipython2",
   "version": "2.7.6"
  }
 },
 "nbformat": 4,
 "nbformat_minor": 5
}
