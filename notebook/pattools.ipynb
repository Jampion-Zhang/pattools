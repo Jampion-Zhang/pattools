{
 "cells": [
  {
   "cell_type": "markdown",
   "id": "892f762f3cd73bf",
   "metadata": {
    "collapsed": false
   },
   "source": [
    "## Basic Library"
   ]
  },
  {
   "cell_type": "code",
   "execution_count": 1,
   "id": "initial_id",
   "metadata": {
    "ExecuteTime": {
     "end_time": "2024-05-28T01:23:25.270214400Z",
     "start_time": "2024-05-28T01:23:24.500216400Z"
    }
   },
   "outputs": [
    {
     "name": "stdout",
     "output_type": "stream",
     "text": [
      "('chr21', 26756576, {'CCCC': 1})\n",
      "('chr21', 26756577, {'CCCC': 2, 'TCCC': 1})\n",
      "('chr21', 26756578, {'CCCC': 2})\n",
      "('chr21', 26756579, {'CCCT': 2, 'CCCC': 5, 'CCTT': 2, 'TCCC': 1})\n"
     ]
    }
   ],
   "source": [
    "from config import CONFIG\n",
    "\n",
    "from pattools.pat import PatWindow\n",
    "\n",
    "patFile = CONFIG.DataRaw / 'pat' / 'test.chr21_22.pat.gz'\n",
    "patWindow = PatWindow(patFile)\n",
    "i = 0\n",
    "for win in patWindow:\n",
    "    i += 1\n",
    "    if i == 5:\n",
    "        break\n",
    "    print(win)"
   ]
  },
  {
   "cell_type": "markdown",
   "id": "190a20d8281fbfb8",
   "metadata": {
    "collapsed": false
   },
   "source": [
    "## pattools\n",
    "\n",
    "```\n",
    "pattools deconv -m sun -g hg38 \\\n",
    "    -c /mnt/d/project/wgbs_tools/references/hg38/CpG.bed.gz \\\n",
    "    -p /mnt/d/data/cacLung/raw/pat/GSM5652289_Blood-T-Eff-CD8-Z0000041F.hg38.pat.gz \\\n",
    "    -o /mnt/d/project/pattools/tmp/out.csv\n",
    "```"
   ]
  }
 ],
 "metadata": {
  "kernelspec": {
   "display_name": "Python 3 (ipykernel)",
   "language": "python",
   "name": "python3"
  },
  "language_info": {
   "codemirror_mode": {
    "name": "ipython",
    "version": 3
   },
   "file_extension": ".py",
   "mimetype": "text/x-python",
   "name": "python",
   "nbconvert_exporter": "python",
   "pygments_lexer": "ipython3",
   "version": "3.10.14"
  }
 },
 "nbformat": 4,
 "nbformat_minor": 5
}
